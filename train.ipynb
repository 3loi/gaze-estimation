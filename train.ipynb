{
 "cells": [
  {
   "cell_type": "code",
   "execution_count": 191,
   "metadata": {
    "scrolled": false
   },
   "outputs": [],
   "source": [
    "from keras.utils import Sequence\n",
    "import numpy as np\n",
    "from PIL import Image\n",
    "from matplotlib.colors import rgb_to_hsv, hsv_to_rgb\n",
    "import os\n",
    "import math\n",
    "from scipy.ndimage import convolve\n",
    "import params\n",
    "from glob import glob\n",
    "import cv2 \n",
    "from tqdm import tqdm\n",
    "\n",
    "from collections import defaultdict\n",
    "import matplotlib.pyplot as plt\n",
    "import pandas as pd"
   ]
  },
  {
   "cell_type": "code",
   "execution_count": 2,
   "metadata": {},
   "outputs": [
    {
     "name": "stdout",
     "output_type": "stream",
     "text": [
      "\r\n",
      "class data:\r\n",
      "    IMG_SHAPE = (112,224,3)\r\n",
      "    OUT_SHAPE_1 = (3,7)\r\n",
      "    OUT_Layers = 6\r\n",
      "    max_h = 0.7\r\n",
      "    min_h = -0.5\r\n",
      "    max_v = 0.2\r\n",
      "    min_v = -0.1\r\n",
      "\r\n",
      "class training:\r\n",
      "    network_name = 'mobilenet'\r\n",
      "    epoch_end = 10\r\n",
      "    batch_size = 16\r\n",
      "\r\n",
      "class model:\r\n",
      "    hp_en = True\r\n",
      "    eye_en = False"
     ]
    }
   ],
   "source": [
    "!cat params.py"
   ]
  },
  {
   "cell_type": "code",
   "execution_count": 61,
   "metadata": {},
   "outputs": [],
   "source": [
    "#random number between a and b\n",
    "def rand(a=0, b=1):\n",
    "    return np.random.rand()*(b-a) + a\n",
    "\n",
    "\n",
    "#create a sqare (sizexsizeeee)  gaussian mask with std\n",
    "def mask_mat(size, std):\n",
    "    mask = np.zeros((size,size))\n",
    "    for i in range(size):\n",
    "        for j in range(size):\n",
    "            mask[i,j] = math.exp(-((size//2 - i)**2 + (size//2 - j)**2 )/std)\n",
    "    mask = mask/np.sum(np.sum(mask))\n",
    "    return mask"
   ]
  },
  {
   "cell_type": "code",
   "execution_count": null,
   "metadata": {},
   "outputs": [],
   "source": [
    "class image_loader():\n",
    "    #eyegaze data is 4:1 ratio (width:height)\n",
    "    def __init__(self, width=224, height=112):\n",
    "        #self.sp = SimplePreprocessor(width, height)\n",
    "        #self.pp = PatchPreprocessor(width, height)\n",
    "        #mp = MeanPreprocessor(means[\"R\"], means[\"G\"], means[\"B\"])\n",
    "        #self.iap = ImageToArrayPreprocessor()\n",
    "        pass\n",
    "        \n",
    "    def load_img(self, path):\n",
    "        #image = cv2.imread(path)\n",
    "        image = Image.open(path)\n",
    "        buf = image.copy() #create copy and delete original to overcome PIL bug \"Too many open files\"\n",
    "        image.close()\n",
    "        #image = self.sp.preprocess(image)\n",
    "        #image = self.mp.preprocess(image)\n",
    "        #image = self.iap.preprocess(image)\n",
    "        return buf"
   ]
  },
  {
   "cell_type": "code",
   "execution_count": 185,
   "metadata": {},
   "outputs": [],
   "source": [
    "\n",
    "\n",
    "class data_generator(Sequence):\n",
    "\n",
    "    def __init__(self, batch_size, root):\n",
    "        self.root = root\n",
    "        self.batch_size = batch_size\n",
    "        \n",
    "        self.images = []\n",
    "        self.labels = []\n",
    "        self.labels_dict = defaultdict(dict)\n",
    "\n",
    "        self.img_loader = image_loader()\n",
    "        \n",
    "        #paths to each all images\n",
    "        image_paths = glob(os.path.join(root, 'eye_image', '*', '*.jpg'))\n",
    "        #paths to all csv files containing coordinates\n",
    "        label_paths = glob(os.path.join(root, 'eye_image', '*', '*.csv'))\n",
    "\n",
    "\n",
    "        \n",
    "        self.IMG_HEIGHT = params.data.IMG_SHAPE[0]\n",
    "        self.IMG_WIDTH = params.data.IMG_SHAPE[1]\n",
    "\n",
    "\n",
    "\n",
    "        self.batch_imgs = np.zeros((self.batch_size, self.IMG_HEIGHT, self.IMG_WIDTH, 3))\n",
    "        self.batch_hp = np.zeros((self.batch_size,6))\n",
    "        self.batch_points = [None]*params.data.OUT_Layers\n",
    "        self.mask_size = [3, 5, 9, 19, 31, 63]\n",
    "        self.mask_std = [1, 2, 10, 50, 100, 300]\n",
    "\n",
    "        #different resolution \n",
    "        for op in range(len(batch_points)):\n",
    "            self.batch_points[op] = np.zeros((self.batch_size, 3*(2**op), 7*(2**op)))\n",
    "        \n",
    "        \n",
    "        self.load_labels(label_paths)\n",
    "        self.load_images(image_paths)\n",
    "        \n",
    "        \n",
    "        \n",
    "        \n",
    "        \n",
    "        \n",
    "    def load_labels(self, files):\n",
    "        print(\"Loading labels: \")\n",
    "        for lab in tqdm(files):\n",
    "            #extract video name\n",
    "            video_name = lab.split(os.path.sep)[-2]\n",
    "            #extract frame name\n",
    "            df = pd.read_csv(lab, names= ['x', 'y'])\n",
    "            for frame, row in df.iterrows():\n",
    "                buf = row.to_numpy() #x,y coordinates of gaze\n",
    "                self.labels_dict[video_name][frame+1] = buf\n",
    "                \n",
    "    #make sure self.labels_dict has been created first\n",
    "    def load_images(self, files):\n",
    "        print(\"Loading images: \")\n",
    "        for img in tqdm(image_paths):\n",
    "            #extract video name\n",
    "            video_name = img.split(os.path.sep)[-2]\n",
    "            #extract frame name\n",
    "            frame = int(img.split(os.path.sep)[-1].split('.')[0][5:])\n",
    "\n",
    "            \n",
    "            try:\n",
    "                self.labels.append(labels_dict[video_name][frame])\n",
    "                self.images.append(img_loader.load_img(img))\n",
    "                \n",
    "            except:\n",
    "                print(\"Could not find label for frame {} from video {}\".format(frame, video_name))\n",
    "\n",
    "\n",
    "        \n",
    "        \n",
    "    def __len__(self):\n",
    "        return int(np.ceil(len(self.x) / float(self.batch_size)))\n",
    "\n",
    "    def __getitem__(self, idx):\n",
    "\n",
    "\n",
    "        imgs = images[idx * batch_size:(idx + 1) * batch_size]\n",
    "        gazes = labels[idx * batch_size:(idx + 1) * batch_size]\n",
    "\n",
    "\n",
    "        #different resolution \n",
    "        for op in range(len(self.batch_points)):\n",
    "            self.batch_points[op] = np.zeros((self.batch_size, 3*(2**op), 7*(2**op)))\n",
    "\n",
    "\n",
    "        for i in range(0, self.batch_size):\n",
    "            im = imgs[i]\n",
    "\n",
    "\n",
    "            iw, ih = im.size\n",
    "            scale = min(self.IMG_WIDTH / iw, self.IMG_HEIGHT / ih)\n",
    "            r_scale = rand(.7, 1.3)\n",
    "\n",
    "            nw = int(iw * scale * r_scale)\n",
    "            nh = int(ih * scale * r_scale)\n",
    "            im = im.resize((nw, nh), Image.BICUBIC) #resize to input size using random patch\n",
    "            new_im = Image.new('RGB', (self.IMG_WIDTH, self.IMG_HEIGHT), (128, 128, 128)) #np.zeros\n",
    "            new_im.paste(im, ((self.IMG_WIDTH - nw) // 2, (self.IMG_HEIGHT - nh) // 2))\n",
    "            new_im = np.array(new_im).astype(np.float32) / 255\n",
    "\n",
    "            # distort image\n",
    "            hue = 0.1\n",
    "            sat = 1.5\n",
    "            val = 1.5\n",
    "            hue = rand(-hue, hue)\n",
    "            sat = rand(1, sat) if rand() < .5 else 1 / rand(1, sat)\n",
    "            val = rand(1, val) if rand() < .5 else 1 / rand(1, val)\n",
    "            x = rgb_to_hsv(new_im)\n",
    "            x[..., 0] += hue\n",
    "            x[..., 0][x[..., 0] > 1] -= 1\n",
    "            x[..., 0][x[..., 0] < 0] += 1\n",
    "            x[..., 1] *= sat\n",
    "            x[..., 2] *= val\n",
    "            x[x > 1] = 1\n",
    "            x[x < 0] = 0\n",
    "            new_im = hsv_to_rgb(x)  # numpy array, 0 to 1\n",
    "\n",
    "            self.batch_imgs[i] = new_im\n",
    "\n",
    "            point = gazes[i]\n",
    "\n",
    "            for op in range(len(self.batch_points)):\n",
    "                mask = mask_mat(self.mask_size[op], self.mask_std[op])\n",
    "                indv = int(point[1] * (self.IMG_HEIGHT*(2**op)) / 1050)\n",
    "                indh = int(point[0] * (self.IMG_WIDTH*(2**op)) / 1680)\n",
    "                target = np.zeros((params.data.OUT_SHAPE_1[0]*(2**op) + mask_size[op] - 1, params.data.OUT_SHAPE_1[1]*(2**op) + mask_size[op] -1))\n",
    "                target[indv:indv+self.mask_size[op],indh:indh+self.mask_size[op]] = mask\n",
    "                self.batch_points[op][i] = target[(self.mask_size[op]-1)//2:-(self.mask_size[op]-1)//2,(self.mask_size[op]-1)//2:-(mask_size[op]-1)//2]\n",
    "        \n",
    "        return self.batch_imgs, self.batch_points"
   ]
  },
  {
   "cell_type": "code",
   "execution_count": null,
   "metadata": {},
   "outputs": [],
   "source": []
  },
  {
   "cell_type": "code",
   "execution_count": 186,
   "metadata": {},
   "outputs": [],
   "source": [
    "root = '/home/a/Desktop/MSP-Gaze'"
   ]
  },
  {
   "cell_type": "code",
   "execution_count": 187,
   "metadata": {},
   "outputs": [
    {
     "name": "stderr",
     "output_type": "stream",
     "text": [
      "\r",
      "  0%|          | 0/1188 [00:00<?, ?it/s]"
     ]
    },
    {
     "name": "stdout",
     "output_type": "stream",
     "text": [
      "Loading labels: \n"
     ]
    },
    {
     "name": "stderr",
     "output_type": "stream",
     "text": [
      "100%|██████████| 1188/1188 [00:18<00:00, 65.49it/s]\n",
      "  0%|          | 436/324771 [00:00<01:14, 4358.44it/s]"
     ]
    },
    {
     "name": "stdout",
     "output_type": "stream",
     "text": [
      "Loading images: \n"
     ]
    },
    {
     "name": "stderr",
     "output_type": "stream",
     "text": [
      "100%|██████████| 324771/324771 [01:52<00:00, 2881.87it/s]\n"
     ]
    }
   ],
   "source": [
    "train_data = data_generator(batch_size= 16,root = root)"
   ]
  },
  {
   "cell_type": "code",
   "execution_count": 190,
   "metadata": {},
   "outputs": [
    {
     "ename": "TypeError",
     "evalue": "__getitem__() missing 1 required positional argument: 'idx'",
     "output_type": "error",
     "traceback": [
      "\u001b[0;31m---------------------------------------------------------------------------\u001b[0m",
      "\u001b[0;31mTypeError\u001b[0m                                 Traceback (most recent call last)",
      "\u001b[0;32m<ipython-input-190-617f76c6f26f>\u001b[0m in \u001b[0;36m<module>\u001b[0;34m\u001b[0m\n\u001b[0;32m----> 1\u001b[0;31m \u001b[0;32mfor\u001b[0m \u001b[0mx\u001b[0m\u001b[0;34m,\u001b[0m\u001b[0my\u001b[0m \u001b[0;32min\u001b[0m \u001b[0mtrain_data\u001b[0m\u001b[0;34m.\u001b[0m\u001b[0m__getitem__\u001b[0m\u001b[0;34m(\u001b[0m\u001b[0;34m)\u001b[0m\u001b[0;34m:\u001b[0m\u001b[0;34m\u001b[0m\u001b[0;34m\u001b[0m\u001b[0m\n\u001b[0m\u001b[1;32m      2\u001b[0m     \u001b[0;32mbreak\u001b[0m\u001b[0;34m\u001b[0m\u001b[0;34m\u001b[0m\u001b[0m\n",
      "\u001b[0;31mTypeError\u001b[0m: __getitem__() missing 1 required positional argument: 'idx'"
     ]
    }
   ],
   "source": [
    "for x,y in train_data.__getitem__():\n",
    "    break"
   ]
  },
  {
   "cell_type": "code",
   "execution_count": 100,
   "metadata": {},
   "outputs": [
    {
     "data": {
      "text/plain": [
       "(100, 25)"
      ]
     },
     "execution_count": 100,
     "metadata": {},
     "output_type": "execute_result"
    }
   ],
   "source": [
    "Image.open('/home/a/Desktop/MSP-Gaze/eye_image/Tr_S2_RWH1_F018/image137.jpg').size"
   ]
  },
  {
   "cell_type": "code",
   "execution_count": 101,
   "metadata": {},
   "outputs": [
    {
     "data": {
      "text/plain": [
       "'/home/a/Desktop/MSP-Gaze/eye_image/Tr_S2_RWH1_F018/image137.jpg'"
      ]
     },
     "execution_count": 101,
     "metadata": {},
     "output_type": "execute_result"
    }
   ],
   "source": [
    "img"
   ]
  },
  {
   "cell_type": "code",
   "execution_count": 102,
   "metadata": {},
   "outputs": [
    {
     "data": {
      "image/png": "[encoded data removed]",
      "text/plain": [
       "<PIL.Image.Image image mode=L size=100x25 at 0x7F665BD16B90>"
      ]
     },
     "execution_count": 102,
     "metadata": {},
     "output_type": "execute_result"
    }
   ],
   "source": [
    "img_loader.load_img(img)"
   ]
  },
  {
   "cell_type": "code",
   "execution_count": null,
   "metadata": {},
   "outputs": [],
   "source": []
  },
  {
   "cell_type": "code",
   "execution_count": 103,
   "metadata": {
    "scrolled": true
   },
   "outputs": [
    {
     "name": "stderr",
     "output_type": "stream",
     "text": [
      "  1%|          | 7/1188 [00:00<00:17, 69.30it/s]"
     ]
    },
    {
     "name": "stdout",
     "output_type": "stream",
     "text": [
      "Loading labels: \n"
     ]
    },
    {
     "name": "stderr",
     "output_type": "stream",
     "text": [
      "100%|██████████| 1188/1188 [00:16<00:00, 73.20it/s]\n",
      "  0%|          | 321/324771 [00:00<01:41, 3201.42it/s]"
     ]
    },
    {
     "name": "stdout",
     "output_type": "stream",
     "text": [
      "Loading images: \n"
     ]
    },
    {
     "name": "stderr",
     "output_type": "stream",
     "text": [
      "100%|██████████| 324771/324771 [02:01<00:00, 2665.33it/s]\n"
     ]
    }
   ],
   "source": []
  },
  {
   "cell_type": "code",
   "execution_count": 120,
   "metadata": {},
   "outputs": [],
   "source": [
    "batch_size = 16\n",
    "idx = 0"
   ]
  },
  {
   "cell_type": "code",
   "execution_count": 124,
   "metadata": {},
   "outputs": [],
   "source": [
    "IMG_HEIGHT = params.data.IMG_SHAPE[0]\n",
    "IMG_WIDTH = params.data.IMG_SHAPE[1]\n",
    "\n",
    "imgs = images[idx * batch_size:(idx + 1) * batch_size]\n",
    "gazes = labels[idx * batch_size:(idx + 1) * batch_size]\n",
    "\n",
    "\n",
    "batch_imgs = np.zeros((batch_size, IMG_HEIGHT, IMG_WIDTH, 3))\n",
    "batch_hp = np.zeros((batch_size,6))\n",
    "batch_points = [None]*params.data.OUT_Layers\n",
    "mask_size = [3, 5, 9, 19, 31, 63]\n",
    "mask_std = [1, 2, 10, 50, 100, 300]\n",
    "\n",
    "#different resolution \n",
    "for op in range(len(batch_points)):\n",
    "    batch_points[op] = np.zeros((batch_size, 3*(2**op), 7*(2**op)))\n",
    "\n"
   ]
  },
  {
   "cell_type": "code",
   "execution_count": 169,
   "metadata": {},
   "outputs": [],
   "source": [
    "\n",
    "for i in range(0, batch_size):\n",
    "#     if params.model.eye_en:\n",
    "        #drop_eye = rand(0,1) < 0.2\n",
    "    im = imgs[i]\n",
    "\n",
    "\n",
    "    iw, ih = im.size\n",
    "    scale = min(IMG_WIDTH / iw, IMG_HEIGHT / ih)\n",
    "    r_scale = rand(.7, 1.3)\n",
    "\n",
    "    nw = int(iw * scale * r_scale)\n",
    "    nh = int(ih * scale * r_scale)\n",
    "    im = im.resize((nw, nh), Image.BICUBIC) #resize to input size using random patch\n",
    "    new_im = Image.new('RGB', (IMG_WIDTH, IMG_HEIGHT), (128, 128, 128)) #np.zeros\n",
    "    new_im.paste(im, ((IMG_WIDTH - nw) // 2, (IMG_HEIGHT - nh) // 2))\n",
    "    new_im = np.array(new_im).astype(np.float32) / 255\n",
    "\n",
    "    # distort image\n",
    "    hue = 0.1\n",
    "    sat = 1.5\n",
    "    val = 1.5\n",
    "    hue = rand(-hue, hue)\n",
    "    sat = rand(1, sat) if rand() < .5 else 1 / rand(1, sat)\n",
    "    val = rand(1, val) if rand() < .5 else 1 / rand(1, val)\n",
    "    x = rgb_to_hsv(new_im)\n",
    "    x[..., 0] += hue\n",
    "    x[..., 0][x[..., 0] > 1] -= 1\n",
    "    x[..., 0][x[..., 0] < 0] += 1\n",
    "    x[..., 1] *= sat\n",
    "    x[..., 2] *= val\n",
    "    x[x > 1] = 1\n",
    "    x[x < 0] = 0\n",
    "    new_im = hsv_to_rgb(x)  # numpy array, 0 to 1\n",
    "\n",
    "    batch_imgs[i] = new_im\n",
    "    \n",
    "    point = gazes[i]\n",
    "    \n",
    "    for op in range(len(batch_points)):\n",
    "        mask = mask_mat(mask_size[op], mask_std[op])\n",
    "        indv = int(point[1] * (params.data.OUT_SHAPE_1[0]*(2**op)) / 1050)\n",
    "        indh = int(point[0] * (params.data.OUT_SHAPE_1[1]*(2**op)) / 1680)\n",
    "        target = np.zeros((params.data.OUT_SHAPE_1[0]*(2**op) + mask_size[op] - 1, params.data.OUT_SHAPE_1[1]*(2**op) + mask_size[op] -1))\n",
    "        target[indv:indv+mask_size[op],indh:indh+mask_size[op]] = mask\n",
    "        batch_points[op][i] = target[(mask_size[op]-1)//2:-(mask_size[op]-1)//2,(mask_size[op]-1)//2:-(mask_size[op]-1)//2]"
   ]
  },
  {
   "cell_type": "code",
   "execution_count": 167,
   "metadata": {},
   "outputs": [
    {
     "data": {
      "text/plain": [
       "array([[0.        , 0.        , 0.        , ..., 0.00052354, 0.00049801,\n",
       "        0.00047057],\n",
       "       [0.        , 0.        , 0.        , ..., 0.00056904, 0.00054129,\n",
       "        0.00051147],\n",
       "       [0.        , 0.        , 0.        , ..., 0.00061438, 0.00058442,\n",
       "        0.00055222],\n",
       "       ...,\n",
       "       [0.        , 0.        , 0.        , ..., 0.        , 0.        ,\n",
       "        0.        ],\n",
       "       [0.        , 0.        , 0.        , ..., 0.        , 0.        ,\n",
       "        0.        ],\n",
       "       [0.        , 0.        , 0.        , ..., 0.        , 0.        ,\n",
       "        0.        ]])"
      ]
     },
     "execution_count": 167,
     "metadata": {},
     "output_type": "execute_result"
    }
   ],
   "source": [
    "batch_points[5][15]"
   ]
  },
  {
   "cell_type": "code",
   "execution_count": 173,
   "metadata": {},
   "outputs": [
    {
     "data": {
      "text/plain": [
       "<matplotlib.image.AxesImage at 0x7f663408fe10>"
      ]
     },
     "execution_count": 173,
     "metadata": {},
     "output_type": "execute_result"
    },
    {
     "data": {
      "image/png": "[encoded data removed]",
      "text/plain": [
       "<Figure size 432x288 with 1 Axes>"
      ]
     },
     "metadata": {
      "needs_background": "light"
     },
     "output_type": "display_data"
    }
   ],
   "source": [
    "plt.imshow(batch_points[1][2])"
   ]
  },
  {
   "cell_type": "code",
   "execution_count": 135,
   "metadata": {},
   "outputs": [
    {
     "data": {
      "text/plain": [
       "<matplotlib.image.AxesImage at 0x7f663450a190>"
      ]
     },
     "execution_count": 135,
     "metadata": {},
     "output_type": "execute_result"
    },
    {
     "data": {
      "image/png": "[encoded data removed]",
      "text/plain": [
       "<Figure size 432x288 with 1 Axes>"
      ]
     },
     "metadata": {
      "needs_background": "light"
     },
     "output_type": "display_data"
    }
   ],
   "source": [
    "plt.imshow(batch_imgs[0])"
   ]
  },
  {
   "cell_type": "code",
   "execution_count": 118,
   "metadata": {},
   "outputs": [
    {
     "data": {
      "text/plain": [
       "<matplotlib.image.AxesImage at 0x7f66345fe5d0>"
      ]
     },
     "execution_count": 118,
     "metadata": {},
     "output_type": "execute_result"
    },
    {
     "data": {
      "image/png": "[encoded data removed]",
      "text/plain": [
       "<Figure size 432x288 with 1 Axes>"
      ]
     },
     "metadata": {
      "needs_background": "light"
     },
     "output_type": "display_data"
    }
   ],
   "source": [
    "plt.imshow(batch_imgs[12])"
   ]
  },
  {
   "cell_type": "code",
   "execution_count": 116,
   "metadata": {},
   "outputs": [
    {
     "data": {
      "text/plain": [
       "<matplotlib.image.AxesImage at 0x7f66346bfb50>"
      ]
     },
     "execution_count": 116,
     "metadata": {},
     "output_type": "execute_result"
    },
    {
     "data": {
      "image/png": "[encoded data removed]",
      "text/plain": [
       "<Figure size 432x288 with 1 Axes>"
      ]
     },
     "metadata": {
      "needs_background": "light"
     },
     "output_type": "display_data"
    }
   ],
   "source": [
    "plt.imshow(batch_imgs[0])"
   ]
  },
  {
   "cell_type": "code",
   "execution_count": null,
   "metadata": {},
   "outputs": [],
   "source": []
  },
  {
   "cell_type": "code",
   "execution_count": null,
   "metadata": {},
   "outputs": [],
   "source": [
    "Images:\n",
    "data aug \n",
    "\n",
    "labels:\n",
    "grid -> gaussian mask"
   ]
  },
  {
   "cell_type": "code",
   "execution_count": 18,
   "metadata": {},
   "outputs": [
    {
     "ename": "NameError",
     "evalue": "name 'lab' is not defined",
     "output_type": "error",
     "traceback": [
      "\u001b[0;31m---------------------------------------------------------------------------\u001b[0m",
      "\u001b[0;31mNameError\u001b[0m                                 Traceback (most recent call last)",
      "\u001b[0;32m<ipython-input-18-bd39f2f7f698>\u001b[0m in \u001b[0;36m<module>\u001b[0;34m\u001b[0m\n\u001b[0;32m----> 1\u001b[0;31m \u001b[0mdf\u001b[0m \u001b[0;34m=\u001b[0m \u001b[0mpd\u001b[0m\u001b[0;34m.\u001b[0m\u001b[0mread_csv\u001b[0m\u001b[0;34m(\u001b[0m\u001b[0mlab\u001b[0m\u001b[0;34m,\u001b[0m \u001b[0mnames\u001b[0m\u001b[0;34m=\u001b[0m \u001b[0;34m[\u001b[0m\u001b[0;34m'x'\u001b[0m\u001b[0;34m,\u001b[0m \u001b[0;34m'y'\u001b[0m\u001b[0;34m]\u001b[0m\u001b[0;34m)\u001b[0m\u001b[0;34m\u001b[0m\u001b[0;34m\u001b[0m\u001b[0m\n\u001b[0m",
      "\u001b[0;31mNameError\u001b[0m: name 'lab' is not defined"
     ]
    }
   ],
   "source": [
    "df = pd.read_csv(lab, names= ['x', 'y'])"
   ]
  },
  {
   "cell_type": "code",
   "execution_count": null,
   "metadata": {},
   "outputs": [],
   "source": [
    "row.to_numpy()"
   ]
  },
  {
   "cell_type": "code",
   "execution_count": null,
   "metadata": {},
   "outputs": [],
   "source": [
    "video_name"
   ]
  },
  {
   "cell_type": "code",
   "execution_count": null,
   "metadata": {},
   "outputs": [],
   "source": [
    "videos"
   ]
  },
  {
   "cell_type": "code",
   "execution_count": null,
   "metadata": {},
   "outputs": [],
   "source": [
    "frame"
   ]
  },
  {
   "cell_type": "code",
   "execution_count": null,
   "metadata": {},
   "outputs": [],
   "source": []
  },
  {
   "cell_type": "code",
   "execution_count": null,
   "metadata": {},
   "outputs": [],
   "source": [
    "from tensorflow.compat.v1 import ConfigProto\n",
    "from tensorflow.compat.v1 import InteractiveSession\n",
    "\n",
    "from keras.optimizers import Adadelta, Adam\n",
    "from keras.callbacks import ModelCheckpoint\n",
    "\n",
    "from generate_sequence import data_generator\n",
    "from mobnet_model import model\n",
    "import scipy.io as sio\n",
    "import matplotlib.pyplot as plt\n",
    "from keras.losses import categorical_crossentropy\n",
    "from keras import backend as K\n",
    "import os\n",
    "import params\n",
    "\n",
    "config = ConfigProto()\n",
    "config.gpu_options.allow_growth = True\n",
    "session = InteractiveSession(config=config)\n",
    "\n",
    "\n",
    "def cc_loss(ytrue, ypred):\n",
    "    ypred = K.clip(ypred, 1e-14, 1)\n",
    "    ytrue = K.clip(ytrue, 1e-14, 1)\n",
    "    cce = -K.sum(K.sum(ytrue * K.log(ypred)))  # /(64*112)\n",
    "    mae = K.abs(ytrue - ypred)\n",
    "    return cce + mae\n",
    "\n",
    "\n",
    "def fl_loss(ytrue, ypred):\n",
    "    gamma = 1\n",
    "    ypred = K.clip(ypred, 1e-14, 1)\n",
    "    ytrue = K.clip(ytrue, 1e-14, 1)\n",
    "    cce = -K.sum(K.sum(ytrue * ((1 - ypred) ** gamma) * K.log(ypred)))  # /(64*112)\n",
    "    return cce\n",
    "\n",
    "hist = {}\n",
    "model = model()\n",
    "save_model_loc = 'model_fusion_eyedrop20/'\n",
    "os.mkdir(save_model_loc)\n",
    "filepath = save_model_loc + 'model-{epoch:02d}-{val_loss:.2f}.hdf5'\n",
    "cb = ModelCheckpoint(filepath, monitor='val_loss', verbose=1, save_best_only=False, mode='max', save_weights_only=True)\n",
    "# images driver and head pose\n",
    "train_images, train_bb, train_angles, train_hp, val_images, val_bb, val_angles, val_hp = list_of_data_angles.list_of_data()\n",
    "train_images_mark, train_bb_mark, train_angles_mark, train_hp_mark, val_images_mark, val_bb_mark, val_angles_mark, val_hp_mark = list_of_data_angles_markers.list_of_data()\n",
    "train_images, train_bb, train_angles, train_hp = list_of_data_angles.rep_data_for_balance(train_images, train_bb, train_angles, train_hp)\n",
    "print('total training points ' + str(len(train_images)))\n",
    "print('total validation points ' + str(len(val_images)))\n",
    "print('total training points marker' + str(len(train_images_mark)))\n",
    "print('total validation points  marker' + str(len(val_images_mark)))\n",
    "\n",
    "# end-to-end\n",
    "loss_weights_sequence = [1, 1, 1, 1, 1, 1]\n",
    "\n",
    "lr_seq = 1e-3\n",
    "batch_size_all = 16\n",
    "prev_epoch = 0\n",
    "n_epochs = 1\n",
    "\n",
    "opt = Adam(lr=lr_seq)\n",
    "model.model.compile(loss=[cc_loss] * 6, loss_weights=loss_weights_sequence, optimizer=opt)"
   ]
  },
  {
   "cell_type": "code",
   "execution_count": null,
   "metadata": {},
   "outputs": [],
   "source": []
  }
 ],
 "metadata": {
  "kernelspec": {
   "display_name": "Python 3",
   "language": "python",
   "name": "python3"
  },
  "language_info": {
   "codemirror_mode": {
    "name": "ipython",
    "version": 3
   },
   "file_extension": ".py",
   "mimetype": "text/x-python",
   "name": "python",
   "nbconvert_exporter": "python",
   "pygments_lexer": "ipython3",
   "version": "3.7.4"
  }
 },
 "nbformat": 4,
 "nbformat_minor": 2
}
